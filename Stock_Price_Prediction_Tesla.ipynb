{
  "nbformat": 4,
  "nbformat_minor": 0,
  "metadata": {
    "colab": {
      "name": "Stock_Price_Prediction_Tesla.ipynb",
      "provenance": [],
      "collapsed_sections": [],
      "authorship_tag": "ABX9TyOS6MUBIKD3nSkqYeKfyK2N",
      "include_colab_link": true
    },
    "kernelspec": {
      "name": "python3",
      "display_name": "Python 3"
    }
  },
  "cells": [
    {
      "cell_type": "markdown",
      "metadata": {
        "id": "view-in-github",
        "colab_type": "text"
      },
      "source": [
        "<a href=\"https://colab.research.google.com/github/GniwT/Deep-Learning-RNN-Stock-Price-Prediction-with-LSTM/blob/master/Stock_Price_Prediction_Tesla.ipynb\" target=\"_parent\"><img src=\"https://colab.research.google.com/assets/colab-badge.svg\" alt=\"Open In Colab\"/></a>"
      ]
    },
    {
      "cell_type": "markdown",
      "metadata": {
        "id": "yQ_W3nZwCXoU",
        "colab_type": "text"
      },
      "source": [
        "# **Stock Price Trend Prediction with LSTM**\n",
        "\n",
        "Therefore, all materials here are for experimental purpose only. Please do not trade any stock based on this model. \n",
        "\n",
        "This project is to explore LSTM on stock prices because it is better than traditional ARIMI model. The data is the daily stock prices of the previous 5 years and the prediction is the trend of the next month (20 trading days). \n",
        "\n",
        "## Step:\n",
        "1. collect the stock data - TSLA\n",
        "2. preprocess the data \n",
        "3. create a stacked LSTM model\n",
        "4. predict the trend of next 20 days\n",
        "5. evaluation\n",
        "6. visualisation\n",
        "7. improvement"
      ]
    },
    {
      "cell_type": "markdown",
      "metadata": {
        "id": "vCaFszOQ3i1d",
        "colab_type": "text"
      },
      "source": [
        "## **1. Data**\n",
        "The data consists of 1281 trading days between 2015-08-17 and 2020-09-16 which 1281 trading day from Yahoo! Finance and upload it from local devices. I will split the last 20 days for the last part for evaluation.\n"
      ]
    },
    {
      "cell_type": "code",
      "metadata": {
        "id": "2gnihTz9CZoA",
        "colab_type": "code",
        "colab": {}
      },
      "source": [
        "# import libraries \n",
        "# upload from local drive to Google Drive\n",
        "import io\n",
        "from google.colab import files"
      ],
      "execution_count": 1,
      "outputs": []
    },
    {
      "cell_type": "code",
      "metadata": {
        "id": "K5wZpQQdzHb0",
        "colab_type": "code",
        "colab": {}
      },
      "source": [
        "import pandas as pd\n",
        "import matplotlib.pyplot as plt\n",
        "import numpy as np\n",
        "from sklearn.model_selection import train_test_split"
      ],
      "execution_count": 2,
      "outputs": []
    },
    {
      "cell_type": "code",
      "metadata": {
        "id": "XnYYoE5mvI07",
        "colab_type": "code",
        "colab": {
          "resources": {
            "http://localhost:8080/nbextensions/google.colab/files.js": {
              "data": "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",
              "ok": true,
              "headers": [
                [
                  "content-type",
                  "application/javascript"
                ]
              ],
              "status": 200,
              "status_text": ""
            }
          },
          "base_uri": "https://localhost:8080/",
          "height": 72
        },
        "outputId": "64344b2c-ff38-4893-88b8-cdb4564dfde0"
      },
      "source": [
        "# temporary name of the uploaded file\n",
        "uploaded = files.upload()"
      ],
      "execution_count": 3,
      "outputs": [
        {
          "output_type": "display_data",
          "data": {
            "text/html": [
              "\n",
              "     <input type=\"file\" id=\"files-19428784-7cbd-418a-87e6-5aacd782ffe7\" name=\"files[]\" multiple disabled\n",
              "        style=\"border:none\" />\n",
              "     <output id=\"result-19428784-7cbd-418a-87e6-5aacd782ffe7\">\n",
              "      Upload widget is only available when the cell has been executed in the\n",
              "      current browser session. Please rerun this cell to enable.\n",
              "      </output>\n",
              "      <script src=\"/nbextensions/google.colab/files.js\"></script> "
            ],
            "text/plain": [
              "<IPython.core.display.HTML object>"
            ]
          },
          "metadata": {
            "tags": []
          }
        },
        {
          "output_type": "stream",
          "text": [
            "Saving TSLA.csv to TSLA (3).csv\n"
          ],
          "name": "stdout"
        }
      ]
    },
    {
      "cell_type": "code",
      "metadata": {
        "id": "EJmpfo6_vSkR",
        "colab_type": "code",
        "colab": {
          "base_uri": "https://localhost:8080/",
          "height": 34
        },
        "outputId": "a5dd9892-debe-4835-9194-4ceee7a40267"
      },
      "source": [
        "for fn in uploaded.keys():\n",
        "  print('User uploaded file \"{name}\" with length {length} bytes'.format(\n",
        "    name=fn, length=len(uploaded[fn])))"
      ],
      "execution_count": 4,
      "outputs": [
        {
          "output_type": "stream",
          "text": [
            "User uploaded file \"TSLA.csv\" with length 90575 bytes\n"
          ],
          "name": "stdout"
        }
      ]
    },
    {
      "cell_type": "code",
      "metadata": {
        "id": "WIZGuo4WwYmg",
        "colab_type": "code",
        "colab": {}
      },
      "source": [
        "# name the full dataset\n",
        "full_data = pd.read_csv(io.StringIO(uploaded['TSLA.csv'].decode('utf-8')))"
      ],
      "execution_count": 6,
      "outputs": []
    },
    {
      "cell_type": "code",
      "metadata": {
        "id": "Lva0-fnvwuSN",
        "colab_type": "code",
        "colab": {
          "base_uri": "https://localhost:8080/",
          "height": 142
        },
        "outputId": "f1217b96-9c1e-4b87-e748-2d92c03f5fd2"
      },
      "source": [
        "full_data.head(3)"
      ],
      "execution_count": 7,
      "outputs": [
        {
          "output_type": "execute_result",
          "data": {
            "text/html": [
              "<div>\n",
              "<style scoped>\n",
              "    .dataframe tbody tr th:only-of-type {\n",
              "        vertical-align: middle;\n",
              "    }\n",
              "\n",
              "    .dataframe tbody tr th {\n",
              "        vertical-align: top;\n",
              "    }\n",
              "\n",
              "    .dataframe thead th {\n",
              "        text-align: right;\n",
              "    }\n",
              "</style>\n",
              "<table border=\"1\" class=\"dataframe\">\n",
              "  <thead>\n",
              "    <tr style=\"text-align: right;\">\n",
              "      <th></th>\n",
              "      <th>Date</th>\n",
              "      <th>Open</th>\n",
              "      <th>High</th>\n",
              "      <th>Low</th>\n",
              "      <th>Close</th>\n",
              "      <th>Adj Close</th>\n",
              "      <th>Volume</th>\n",
              "    </tr>\n",
              "  </thead>\n",
              "  <tbody>\n",
              "    <tr>\n",
              "      <th>0</th>\n",
              "      <td>2015-08-17</td>\n",
              "      <td>51.112000</td>\n",
              "      <td>51.318001</td>\n",
              "      <td>50.102001</td>\n",
              "      <td>50.998001</td>\n",
              "      <td>50.998001</td>\n",
              "      <td>35883500</td>\n",
              "    </tr>\n",
              "    <tr>\n",
              "      <th>1</th>\n",
              "      <td>2015-08-18</td>\n",
              "      <td>51.076000</td>\n",
              "      <td>52.189999</td>\n",
              "      <td>50.712002</td>\n",
              "      <td>52.144001</td>\n",
              "      <td>52.144001</td>\n",
              "      <td>20975000</td>\n",
              "    </tr>\n",
              "    <tr>\n",
              "      <th>2</th>\n",
              "      <td>2015-08-19</td>\n",
              "      <td>52.066002</td>\n",
              "      <td>52.130001</td>\n",
              "      <td>51.004002</td>\n",
              "      <td>51.049999</td>\n",
              "      <td>51.049999</td>\n",
              "      <td>18021500</td>\n",
              "    </tr>\n",
              "  </tbody>\n",
              "</table>\n",
              "</div>"
            ],
            "text/plain": [
              "         Date       Open       High        Low      Close  Adj Close    Volume\n",
              "0  2015-08-17  51.112000  51.318001  50.102001  50.998001  50.998001  35883500\n",
              "1  2015-08-18  51.076000  52.189999  50.712002  52.144001  52.144001  20975000\n",
              "2  2015-08-19  52.066002  52.130001  51.004002  51.049999  51.049999  18021500"
            ]
          },
          "metadata": {
            "tags": []
          },
          "execution_count": 7
        }
      ]
    },
    {
      "cell_type": "code",
      "metadata": {
        "id": "IWYhbWnv3g7j",
        "colab_type": "code",
        "colab": {
          "base_uri": "https://localhost:8080/",
          "height": 142
        },
        "outputId": "9ae16bea-01a3-42cb-dd2e-5fb7f6daacac"
      },
      "source": [
        "full_data.tail(3)"
      ],
      "execution_count": 8,
      "outputs": [
        {
          "output_type": "execute_result",
          "data": {
            "text/html": [
              "<div>\n",
              "<style scoped>\n",
              "    .dataframe tbody tr th:only-of-type {\n",
              "        vertical-align: middle;\n",
              "    }\n",
              "\n",
              "    .dataframe tbody tr th {\n",
              "        vertical-align: top;\n",
              "    }\n",
              "\n",
              "    .dataframe thead th {\n",
              "        text-align: right;\n",
              "    }\n",
              "</style>\n",
              "<table border=\"1\" class=\"dataframe\">\n",
              "  <thead>\n",
              "    <tr style=\"text-align: right;\">\n",
              "      <th></th>\n",
              "      <th>Date</th>\n",
              "      <th>Open</th>\n",
              "      <th>High</th>\n",
              "      <th>Low</th>\n",
              "      <th>Close</th>\n",
              "      <th>Adj Close</th>\n",
              "      <th>Volume</th>\n",
              "    </tr>\n",
              "  </thead>\n",
              "  <tbody>\n",
              "    <tr>\n",
              "      <th>1278</th>\n",
              "      <td>2020-09-14</td>\n",
              "      <td>380.950012</td>\n",
              "      <td>420.000000</td>\n",
              "      <td>373.299988</td>\n",
              "      <td>419.619995</td>\n",
              "      <td>419.619995</td>\n",
              "      <td>83020600</td>\n",
              "    </tr>\n",
              "    <tr>\n",
              "      <th>1279</th>\n",
              "      <td>2020-09-15</td>\n",
              "      <td>436.559998</td>\n",
              "      <td>461.940002</td>\n",
              "      <td>430.700012</td>\n",
              "      <td>449.760010</td>\n",
              "      <td>449.760010</td>\n",
              "      <td>97298200</td>\n",
              "    </tr>\n",
              "    <tr>\n",
              "      <th>1280</th>\n",
              "      <td>2020-09-16</td>\n",
              "      <td>439.869995</td>\n",
              "      <td>457.790009</td>\n",
              "      <td>435.309998</td>\n",
              "      <td>441.760010</td>\n",
              "      <td>441.760010</td>\n",
              "      <td>72279300</td>\n",
              "    </tr>\n",
              "  </tbody>\n",
              "</table>\n",
              "</div>"
            ],
            "text/plain": [
              "            Date        Open        High  ...       Close   Adj Close    Volume\n",
              "1278  2020-09-14  380.950012  420.000000  ...  419.619995  419.619995  83020600\n",
              "1279  2020-09-15  436.559998  461.940002  ...  449.760010  449.760010  97298200\n",
              "1280  2020-09-16  439.869995  457.790009  ...  441.760010  441.760010  72279300\n",
              "\n",
              "[3 rows x 7 columns]"
            ]
          },
          "metadata": {
            "tags": []
          },
          "execution_count": 8
        }
      ]
    },
    {
      "cell_type": "code",
      "metadata": {
        "id": "Y2f97j9s1cMn",
        "colab_type": "code",
        "colab": {}
      },
      "source": [
        "# create a dataset with the columne of the daily djust closing prices\n",
        "cols_to_keep = ['Adj Close']\n",
        "dataset = full_data[cols_to_keep]"
      ],
      "execution_count": 9,
      "outputs": []
    },
    {
      "cell_type": "code",
      "metadata": {
        "id": "Djc4hQ592d_v",
        "colab_type": "code",
        "colab": {
          "base_uri": "https://localhost:8080/",
          "height": 34
        },
        "outputId": "5fd26fd5-c82a-47e8-d663-5cf7a60665dd"
      },
      "source": [
        "dataset.shape"
      ],
      "execution_count": 10,
      "outputs": [
        {
          "output_type": "execute_result",
          "data": {
            "text/plain": [
              "(1281, 1)"
            ]
          },
          "metadata": {
            "tags": []
          },
          "execution_count": 10
        }
      ]
    },
    {
      "cell_type": "code",
      "metadata": {
        "id": "0wNu-L4mG1aE",
        "colab_type": "code",
        "colab": {
          "base_uri": "https://localhost:8080/",
          "height": 282
        },
        "outputId": "19c49ffa-408f-44a5-9fac-a202bfa7db18"
      },
      "source": [
        "plt.plot(dataset)"
      ],
      "execution_count": 11,
      "outputs": [
        {
          "output_type": "execute_result",
          "data": {
            "text/plain": [
              "[<matplotlib.lines.Line2D at 0x7f64bd9b7e10>]"
            ]
          },
          "metadata": {
            "tags": []
          },
          "execution_count": 11
        },
        {
          "output_type": "display_data",
          "data": {
            "image/png": "[encoded data removed]",
            "text/plain": [
              "<Figure size 432x288 with 1 Axes>"
            ]
          },
          "metadata": {
            "tags": [],
            "needs_background": "light"
          }
        }
      ]
    },
    {
      "cell_type": "code",
      "metadata": {
        "id": "mklLgcpEKVpj",
        "colab_type": "code",
        "colab": {
          "base_uri": "https://localhost:8080/",
          "height": 419
        },
        "outputId": "07cd2875-652a-4908-fe74-9c7a1204f9b2"
      },
      "source": [
        "dataset"
      ],
      "execution_count": 12,
      "outputs": [
        {
          "output_type": "execute_result",
          "data": {
            "text/html": [
              "<div>\n",
              "<style scoped>\n",
              "    .dataframe tbody tr th:only-of-type {\n",
              "        vertical-align: middle;\n",
              "    }\n",
              "\n",
              "    .dataframe tbody tr th {\n",
              "        vertical-align: top;\n",
              "    }\n",
              "\n",
              "    .dataframe thead th {\n",
              "        text-align: right;\n",
              "    }\n",
              "</style>\n",
              "<table border=\"1\" class=\"dataframe\">\n",
              "  <thead>\n",
              "    <tr style=\"text-align: right;\">\n",
              "      <th></th>\n",
              "      <th>Adj Close</th>\n",
              "    </tr>\n",
              "  </thead>\n",
              "  <tbody>\n",
              "    <tr>\n",
              "      <th>0</th>\n",
              "      <td>50.998001</td>\n",
              "    </tr>\n",
              "    <tr>\n",
              "      <th>1</th>\n",
              "      <td>52.144001</td>\n",
              "    </tr>\n",
              "    <tr>\n",
              "      <th>2</th>\n",
              "      <td>51.049999</td>\n",
              "    </tr>\n",
              "    <tr>\n",
              "      <th>3</th>\n",
              "      <td>48.436001</td>\n",
              "    </tr>\n",
              "    <tr>\n",
              "      <th>4</th>\n",
              "      <td>46.153999</td>\n",
              "    </tr>\n",
              "    <tr>\n",
              "      <th>...</th>\n",
              "      <td>...</td>\n",
              "    </tr>\n",
              "    <tr>\n",
              "      <th>1276</th>\n",
              "      <td>371.339996</td>\n",
              "    </tr>\n",
              "    <tr>\n",
              "      <th>1277</th>\n",
              "      <td>372.720001</td>\n",
              "    </tr>\n",
              "    <tr>\n",
              "      <th>1278</th>\n",
              "      <td>419.619995</td>\n",
              "    </tr>\n",
              "    <tr>\n",
              "      <th>1279</th>\n",
              "      <td>449.760010</td>\n",
              "    </tr>\n",
              "    <tr>\n",
              "      <th>1280</th>\n",
              "      <td>441.760010</td>\n",
              "    </tr>\n",
              "  </tbody>\n",
              "</table>\n",
              "<p>1281 rows × 1 columns</p>\n",
              "</div>"
            ],
            "text/plain": [
              "       Adj Close\n",
              "0      50.998001\n",
              "1      52.144001\n",
              "2      51.049999\n",
              "3      48.436001\n",
              "4      46.153999\n",
              "...          ...\n",
              "1276  371.339996\n",
              "1277  372.720001\n",
              "1278  419.619995\n",
              "1279  449.760010\n",
              "1280  441.760010\n",
              "\n",
              "[1281 rows x 1 columns]"
            ]
          },
          "metadata": {
            "tags": []
          },
          "execution_count": 12
        }
      ]
    },
    {
      "cell_type": "code",
      "metadata": {
        "id": "hKFSbnyu7v6w",
        "colab_type": "code",
        "colab": {}
      },
      "source": [
        "# split the dataset into training set and testing set(last 20 days)\n",
        "forecast_days = 20\n",
        "split_point = len(dataset) - forecast_days\n",
        "\n",
        "# create the arrays of the training and testing set\n",
        "train, test = dataset.iloc[0:split_point, :].values, dataset.iloc[split_point:len(dataset), :].values"
      ],
      "execution_count": 13,
      "outputs": []
    },
    {
      "cell_type": "code",
      "metadata": {
        "id": "1mOy84ak9eQl",
        "colab_type": "code",
        "colab": {
          "base_uri": "https://localhost:8080/",
          "height": 51
        },
        "outputId": "f426c615-866d-44b3-ee3d-c2ee49c9ba37"
      },
      "source": [
        "print('train.shape : ', train.shape)\n",
        "print('test.shape  : ', test.shape)"
      ],
      "execution_count": 14,
      "outputs": [
        {
          "output_type": "stream",
          "text": [
            "train.shape :  (1261, 1)\n",
            "test.shape  :  (20, 1)\n"
          ],
          "name": "stdout"
        }
      ]
    },
    {
      "cell_type": "markdown",
      "metadata": {
        "id": "cSGm72FbHjRl",
        "colab_type": "text"
      },
      "source": [
        "## **2. Data Preprocessing**\n",
        "### Feature Scaling\n",
        "Feature scaling is necessary for LSTM because LSTM is sensitive to the scale of the data. We will use normalisationis because RNN prefer 'Sigmoid' as the activation function."
      ]
    },
    {
      "cell_type": "code",
      "metadata": {
        "id": "AFq8uiv58G9R",
        "colab_type": "code",
        "colab": {}
      },
      "source": [
        "from sklearn.preprocessing import MinMaxScaler\n",
        "sc = MinMaxScaler(feature_range = (0, 1)) # values are between (0,1)\n",
        "train_scaled = sc.fit_transform(train)"
      ],
      "execution_count": 15,
      "outputs": []
    },
    {
      "cell_type": "code",
      "metadata": {
        "id": "V3IoVtZNA_kp",
        "colab_type": "code",
        "colab": {
          "base_uri": "https://localhost:8080/",
          "height": 34
        },
        "outputId": "f5eecf44-1482-46b4-fa3f-77ab04e4b439"
      },
      "source": [
        "print('the matrix of train_scaled :', train_scaled.shape)"
      ],
      "execution_count": 16,
      "outputs": [
        {
          "output_type": "stream",
          "text": [
            "the matrix of train_scaled : (1261, 1)\n"
          ],
          "name": "stdout"
        }
      ]
    },
    {
      "cell_type": "markdown",
      "metadata": {
        "id": "iME0UhI-A-_v",
        "colab_type": "text"
      },
      "source": [
        "### Data Structure\n",
        "We need to set up the time series of the last 60 days as feature points(X) plus the last day as target point(Y)."
      ]
    },
    {
      "cell_type": "code",
      "metadata": {
        "id": "_aVmPPk8o1Mw",
        "colab_type": "code",
        "colab": {}
      },
      "source": [
        "# convert an array of values into a dataset matrix\n",
        "def create_dataset(dataset, time_step=1):\n",
        "  dataX, dataY = [],[]\n",
        "  for i in range(len(dataset)-time_steps-1):\n",
        "    a = dataset[i:(i+time_step), 0]\n",
        "    dataX.append(a)\n",
        "    dataY.append(dataset[i+time_step, 0])\n",
        "  return np.array(dataX), np.array(dataY) # RNN only take arrays"
      ],
      "execution_count": 17,
      "outputs": []
    },
    {
      "cell_type": "markdown",
      "metadata": {
        "id": "36XVZAaD8OLc",
        "colab_type": "text"
      },
      "source": [
        "### Time-steps\n",
        "At each time t, our RNN would look at the n previous data points to predict the data at t+1. In this project, I use 60 time steps, corresponding to previous 60 closing prices, roughly three months.\n",
        "\n",
        "X_train - the stock prices of the previous 60 days(0th to 59th)\n",
        "\n",
        "y_train - the stock price on the 60th day "
      ]
    },
    {
      "cell_type": "code",
      "metadata": {
        "id": "foeqODMVvQ5m",
        "colab_type": "code",
        "colab": {}
      },
      "source": [
        "time_steps = 60\n",
        "X_train, y_train = create_dataset(train_scaled, time_steps)"
      ],
      "execution_count": 18,
      "outputs": []
    },
    {
      "cell_type": "code",
      "metadata": {
        "id": "kuB9iu8YvQy9",
        "colab_type": "code",
        "colab": {
          "base_uri": "https://localhost:8080/",
          "height": 136
        },
        "outputId": "f1792409-1d3a-4db1-f7a3-b9a293b79763"
      },
      "source": [
        "print(X_train)"
      ],
      "execution_count": 19,
      "outputs": [
        {
          "output_type": "stream",
          "text": [
            "[[0.06385152 0.06713816 0.06400064 ... 0.05053286 0.05087128 0.04683898]\n",
            " [0.06713816 0.06400064 0.05650389 ... 0.05087128 0.04683898 0.04177421]\n",
            " [0.06400064 0.05650389 0.04995928 ... 0.04683898 0.04177421 0.04325407]\n",
            " ...\n",
            " [0.38105564 0.3853862  0.39229218 ... 0.73126381 0.70592282 0.8093804 ]\n",
            " [0.3853862  0.39229218 0.38614335 ... 0.70592282 0.8093804  0.84737474]\n",
            " [0.39229218 0.38614335 0.38728477 ... 0.8093804  0.84737474 0.86441592]]\n"
          ],
          "name": "stdout"
        }
      ]
    },
    {
      "cell_type": "code",
      "metadata": {
        "id": "5rajKO3H4ns1",
        "colab_type": "code",
        "colab": {
          "base_uri": "https://localhost:8080/",
          "height": 34
        },
        "outputId": "362c9bfe-75ef-449d-c6ac-68b5784319c4"
      },
      "source": [
        "print(y_train)"
      ],
      "execution_count": 20,
      "outputs": [
        {
          "output_type": "stream",
          "text": [
            "[0.04177421 0.04325407 0.03973226 ... 0.84737474 0.86441592 0.97048902]\n"
          ],
          "name": "stdout"
        }
      ]
    },
    {
      "cell_type": "code",
      "metadata": {
        "id": "uYvonIn6o0_u",
        "colab_type": "code",
        "colab": {
          "base_uri": "https://localhost:8080/",
          "height": 51
        },
        "outputId": "e80c2f14-42d4-441c-cc91-ab8368f89a49"
      },
      "source": [
        "print('Matrix of X_train : ', X_train.shape)\n",
        "print('Matrix of y_train : ', y_train.shape)"
      ],
      "execution_count": 21,
      "outputs": [
        {
          "output_type": "stream",
          "text": [
            "Matrix of X_train :  (1200, 60)\n",
            "Matrix of y_train :  (1200,)\n"
          ],
          "name": "stdout"
        }
      ]
    },
    {
      "cell_type": "markdown",
      "metadata": {
        "id": "nVw2uOw2L8nE",
        "colab_type": "text"
      },
      "source": [
        "### Reshape\n",
        "LSTM layer is a recurrent layer. It expects a 3-dimensional input (batch_size, timesteps, input_dim). Hence we need to reshape the input layers be 3 dimensions."
      ]
    },
    {
      "cell_type": "code",
      "metadata": {
        "id": "ODYCNIKiy2NB",
        "colab_type": "code",
        "colab": {}
      },
      "source": [
        "X_train = X_train.reshape(X_train.shape[0], X_train.shape[1], 1) # we only have '1' indicator - price "
      ],
      "execution_count": 22,
      "outputs": []
    },
    {
      "cell_type": "markdown",
      "metadata": {
        "id": "7hIgDRPAL67A",
        "colab_type": "text"
      },
      "source": [
        "## **3. LSTM** **bold text**\n",
        "The RNN is a regressor because we are forecasting the continous outcome of the prices. We will use 50 neurons for the LSTM layers. 50 neurons are good start. If there are too few neurons, the RNN cannot capture the trends well. We will also set 20% as the Dropout regularisation. It will ignore 20% (10 neurons) in each iteration of training in both forward and backward porprogation."
      ]
    },
    {
      "cell_type": "code",
      "metadata": {
        "id": "1OxGF5ohZwuU",
        "colab_type": "code",
        "colab": {}
      },
      "source": [
        "# import the Keras libraries and packages\n",
        "from keras.models import Sequential\n",
        "from keras.layers import Dense\n",
        "from keras.layers import LSTM\n",
        "from keras.layers import Dropout"
      ],
      "execution_count": 23,
      "outputs": []
    },
    {
      "cell_type": "code",
      "metadata": {
        "id": "93Y05pFSaFmo",
        "colab_type": "code",
        "colab": {}
      },
      "source": [
        "# initialising the RNN\n",
        "model = Sequential()\n",
        "\n",
        "# add the first LSTM layer and Dropout regularisation\n",
        "model.add(LSTM(50, return_sequences=True, input_shape=(60, 1)))\n",
        "model.add(Dropout(0.2))\n",
        "\n",
        "# add the second LSTM layer and Dropout regularisation\n",
        "model.add(LSTM(50, return_sequences=True))\n",
        "model.add(Dropout(0.2))\n",
        "\n",
        "# add the third LSTM layer and Dropout regularisation\n",
        "model.add(LSTM(50, return_sequences=True))\n",
        "model.add(Dropout(0.2))\n",
        "\n",
        "# add the fourth LSTM layer and Dropout regularisation\n",
        "model.add(LSTM(50))\n",
        "model.add(Dropout(0.2))"
      ],
      "execution_count": 24,
      "outputs": []
    },
    {
      "cell_type": "markdown",
      "metadata": {
        "id": "UGYLHNMa6wx1",
        "colab_type": "text"
      },
      "source": [
        "## Output layer\n",
        "We are predicting the only one outcome of the price at t+1. This is a one dimension output. Thus we set up the full connected dense layers with one unit to the previous LSTM layer. \n",
        "\n",
        "We choose Adam optimizer because it often captures the updated weights and it is useful in this particular project. \n",
        "\n",
        "The metric is mean squared error because the outcome is continous data.\n",
        "\n",
        "I experimented several numbers of epochs and found that 50 epochs gave some convergences of the loss. Therefore, I think 50 is the right number of epochs."
      ]
    },
    {
      "cell_type": "code",
      "metadata": {
        "id": "0wGEmTiBaFj4",
        "colab_type": "code",
        "colab": {}
      },
      "source": [
        "# add the output layer\n",
        "model.add(Dense(1))\n",
        "\n",
        "# compiling the RNN\n",
        "model.compile(optimizer = 'adam', loss = 'mean_squared_error')"
      ],
      "execution_count": 25,
      "outputs": []
    },
    {
      "cell_type": "code",
      "metadata": {
        "id": "OL1FYhGq2NvA",
        "colab_type": "code",
        "colab": {
          "base_uri": "https://localhost:8080/",
          "height": 459
        },
        "outputId": "254356f0-6d9b-4f5b-8bc1-c02a2e929cab"
      },
      "source": [
        "model.summary()"
      ],
      "execution_count": 26,
      "outputs": [
        {
          "output_type": "stream",
          "text": [
            "Model: \"sequential\"\n",
            "_________________________________________________________________\n",
            "Layer (type)                 Output Shape              Param #   \n",
            "=================================================================\n",
            "lstm (LSTM)                  (None, 60, 50)            10400     \n",
            "_________________________________________________________________\n",
            "dropout (Dropout)            (None, 60, 50)            0         \n",
            "_________________________________________________________________\n",
            "lstm_1 (LSTM)                (None, 60, 50)            20200     \n",
            "_________________________________________________________________\n",
            "dropout_1 (Dropout)          (None, 60, 50)            0         \n",
            "_________________________________________________________________\n",
            "lstm_2 (LSTM)                (None, 60, 50)            20200     \n",
            "_________________________________________________________________\n",
            "dropout_2 (Dropout)          (None, 60, 50)            0         \n",
            "_________________________________________________________________\n",
            "lstm_3 (LSTM)                (None, 50)                20200     \n",
            "_________________________________________________________________\n",
            "dropout_3 (Dropout)          (None, 50)                0         \n",
            "_________________________________________________________________\n",
            "dense (Dense)                (None, 1)                 51        \n",
            "=================================================================\n",
            "Total params: 71,051\n",
            "Trainable params: 71,051\n",
            "Non-trainable params: 0\n",
            "_________________________________________________________________\n"
          ],
          "name": "stdout"
        }
      ]
    },
    {
      "cell_type": "code",
      "metadata": {
        "id": "bUTAuiajOuDz",
        "colab_type": "code",
        "colab": {
          "base_uri": "https://localhost:8080/",
          "height": 884
        },
        "outputId": "a75ce36a-f2e3-4ac9-ecbf-2109187a0e2b"
      },
      "source": [
        "# fitting the RNN to the Training set\n",
        "model.fit(X_train, y_train, epochs = 25, batch_size = 32)"
      ],
      "execution_count": 27,
      "outputs": [
        {
          "output_type": "stream",
          "text": [
            "Epoch 1/25\n",
            "38/38 [==============================] - 4s 106ms/step - loss: 0.0085\n",
            "Epoch 2/25\n",
            "38/38 [==============================] - 4s 108ms/step - loss: 0.0031\n",
            "Epoch 3/25\n",
            "38/38 [==============================] - 4s 109ms/step - loss: 0.0022\n",
            "Epoch 4/25\n",
            "38/38 [==============================] - 4s 108ms/step - loss: 0.0017\n",
            "Epoch 5/25\n",
            "38/38 [==============================] - 4s 109ms/step - loss: 0.0018\n",
            "Epoch 6/25\n",
            "38/38 [==============================] - 4s 109ms/step - loss: 0.0019\n",
            "Epoch 7/25\n",
            "38/38 [==============================] - 6s 155ms/step - loss: 0.0020\n",
            "Epoch 8/25\n",
            "38/38 [==============================] - 6s 159ms/step - loss: 0.0017\n",
            "Epoch 9/25\n",
            "38/38 [==============================] - 4s 108ms/step - loss: 0.0014\n",
            "Epoch 10/25\n",
            "38/38 [==============================] - 4s 109ms/step - loss: 0.0015\n",
            "Epoch 11/25\n",
            "38/38 [==============================] - 4s 109ms/step - loss: 0.0014\n",
            "Epoch 12/25\n",
            "38/38 [==============================] - 4s 108ms/step - loss: 0.0011\n",
            "Epoch 13/25\n",
            "38/38 [==============================] - 4s 108ms/step - loss: 0.0018\n",
            "Epoch 14/25\n",
            "38/38 [==============================] - 4s 108ms/step - loss: 0.0014\n",
            "Epoch 15/25\n",
            "38/38 [==============================] - 4s 108ms/step - loss: 0.0013\n",
            "Epoch 16/25\n",
            "38/38 [==============================] - 4s 108ms/step - loss: 0.0011\n",
            "Epoch 17/25\n",
            "38/38 [==============================] - 4s 107ms/step - loss: 0.0011\n",
            "Epoch 18/25\n",
            "38/38 [==============================] - 4s 107ms/step - loss: 0.0010\n",
            "Epoch 19/25\n",
            "38/38 [==============================] - 4s 108ms/step - loss: 9.2024e-04\n",
            "Epoch 20/25\n",
            "38/38 [==============================] - 4s 111ms/step - loss: 0.0012\n",
            "Epoch 21/25\n",
            "38/38 [==============================] - 4s 111ms/step - loss: 7.9635e-04\n",
            "Epoch 22/25\n",
            "38/38 [==============================] - 4s 111ms/step - loss: 9.9730e-04\n",
            "Epoch 23/25\n",
            "38/38 [==============================] - 4s 113ms/step - loss: 9.1668e-04\n",
            "Epoch 24/25\n",
            "38/38 [==============================] - 4s 117ms/step - loss: 9.6072e-04\n",
            "Epoch 25/25\n",
            "38/38 [==============================] - 4s 111ms/step - loss: 8.5280e-04\n"
          ],
          "name": "stdout"
        },
        {
          "output_type": "execute_result",
          "data": {
            "text/plain": [
              "<tensorflow.python.keras.callbacks.History at 0x7f6486aa1e48>"
            ]
          },
          "metadata": {
            "tags": []
          },
          "execution_count": 27
        }
      ]
    },
    {
      "cell_type": "markdown",
      "metadata": {
        "id": "y3cIBzwPtdI5",
        "colab_type": "text"
      },
      "source": [
        "##**4. Prediction**\n",
        "###getting the real stock price\n",
        "The real stock price is the prices from the last 20 trading days (roughly a month) on the full dataset."
      ]
    },
    {
      "cell_type": "code",
      "metadata": {
        "id": "8FjvVfZntrnX",
        "colab_type": "code",
        "colab": {}
      },
      "source": [
        "real_price = test"
      ],
      "execution_count": 28,
      "outputs": []
    },
    {
      "cell_type": "markdown",
      "metadata": {
        "id": "79Pyhbvqt0Rm",
        "colab_type": "text"
      },
      "source": [
        "Making prediction of the trend of last month and visulaising the results. As the RNN is based on the prices of the previous 60days, we have to create a new variable 'inputs' to keep the prices of the previous 60 days for predicting the 'X_test'.\n",
        "We also need to inverse_transform the predicted prices because the data is scaled with normalisation."
      ]
    },
    {
      "cell_type": "code",
      "metadata": {
        "id": "i2G_XILeOt-3",
        "colab_type": "code",
        "colab": {}
      },
      "source": [
        "inputs = dataset[len(dataset)-len(test)-60:].values\n",
        "inputs = inputs.reshape(-1, 1)\n",
        "inputs = sc.transform(inputs)\n",
        "\n",
        "X_test = []\n",
        "for i in range(60, 80):\n",
        "  X_test.append(inputs[i-60:i, 0])\n",
        "X_test = np.array(X_test)\n",
        "X_test = np.reshape(X_test, (X_test.shape[0], X_test.shape[1], 1))\n",
        "predicted_stock_price = model.predict(X_test)\n",
        "predicted_stock_price = sc.inverse_transform(predicted_stock_price)"
      ],
      "execution_count": 29,
      "outputs": []
    },
    {
      "cell_type": "code",
      "metadata": {
        "id": "VtSzTLf9Ot7W",
        "colab_type": "code",
        "colab": {
          "base_uri": "https://localhost:8080/",
          "height": 357
        },
        "outputId": "91383dd0-d124-4afd-8dd4-27b387ccd3a4"
      },
      "source": [
        "predicted_stock_price"
      ],
      "execution_count": 30,
      "outputs": [
        {
          "output_type": "execute_result",
          "data": {
            "text/plain": [
              "array([[331.81882],\n",
              "       [345.7354 ],\n",
              "       [360.77798],\n",
              "       [375.47098],\n",
              "       [387.74835],\n",
              "       [396.13504],\n",
              "       [401.10648],\n",
              "       [403.976  ],\n",
              "       [405.35062],\n",
              "       [407.84915],\n",
              "       [411.4303 ],\n",
              "       [414.1468 ],\n",
              "       [413.07953],\n",
              "       [407.94556],\n",
              "       [396.57608],\n",
              "       [381.03036],\n",
              "       [364.32755],\n",
              "       [349.4007 ],\n",
              "       [340.13895],\n",
              "       [339.9082 ]], dtype=float32)"
            ]
          },
          "metadata": {
            "tags": []
          },
          "execution_count": 30
        }
      ]
    },
    {
      "cell_type": "code",
      "metadata": {
        "id": "7ulWSmBPOty_",
        "colab_type": "code",
        "colab": {
          "base_uri": "https://localhost:8080/",
          "height": 34
        },
        "outputId": "7d37629a-b901-4952-eeb7-bd22d5df6620"
      },
      "source": [
        "predicted_stock_price.shape"
      ],
      "execution_count": 31,
      "outputs": [
        {
          "output_type": "execute_result",
          "data": {
            "text/plain": [
              "(20, 1)"
            ]
          },
          "metadata": {
            "tags": []
          },
          "execution_count": 31
        }
      ]
    },
    {
      "cell_type": "markdown",
      "metadata": {
        "id": "wUY4N-U8vhvw",
        "colab_type": "text"
      },
      "source": [
        "##**5. Evaluation**\n",
        "As the RNN is a regressor predicting the continous outcome. We will use the metric of RMSE (Root Mean Squared Error) to evaluate the model performance. RMSE is the root mean of the squared differences between the predicted stock prices and the real stock prices.\n",
        "\n",
        "However, we are building the RNN to predict the trend of Tesla, rather than the exact prices. It is because predictions could indeed be close to the real prices but could be the opposite direction from the real stock price. Thus, evaluating the model with the RMSE does not make much sense, since we are more interested in the directions. We are trying to see if the RNN could show the same directions as the real stock prices. It does not matter much on how close the predicted prices to the real stock price. \n",
        "\n",
        "Anyhow, let's check the evaluatin as practise. We get the RMSE of 53. Considering the wide price fluctuation between 325 to 500 in a month period, It is an reasonable error. "
      ]
    },
    {
      "cell_type": "code",
      "metadata": {
        "id": "sJBjy4nJvfI6",
        "colab_type": "code",
        "colab": {
          "base_uri": "https://localhost:8080/",
          "height": 34
        },
        "outputId": "53788f85-af62-4be1-ccd1-246da7ac2388"
      },
      "source": [
        "import math\n",
        "from sklearn.metrics import mean_squared_error\n",
        "rmse = math.sqrt(mean_squared_error(real_price, predicted_stock_price))\n",
        "print('the mean squared error :' , rmse)"
      ],
      "execution_count": 32,
      "outputs": [
        {
          "output_type": "stream",
          "text": [
            "the mean squared error : 55.77092303690704\n"
          ],
          "name": "stdout"
        }
      ]
    },
    {
      "cell_type": "markdown",
      "metadata": {
        "id": "OnZTrp7bvY2H",
        "colab_type": "text"
      },
      "source": [
        "###**6. Visualisation**\n",
        "The graph shows a decent predicted trend capturing the general direction of the real prices. It is normal that the graph is lag behind because it is extremely difficult to capture nonlinear trend. One reason of that is the stock markets consists of many factors such as quantitive and sentiment elements. The later one cannot be predicted. \n",
        "Nevertheless, the graph capture the smooth trend in both upward and downward trends.\n"
      ]
    },
    {
      "cell_type": "code",
      "metadata": {
        "id": "UDGiOJNobgis",
        "colab_type": "code",
        "colab": {
          "base_uri": "https://localhost:8080/",
          "height": 295
        },
        "outputId": "164b8478-7382-4ecf-bffa-2852b81930f2"
      },
      "source": [
        "plt.plot(real_price, color = 'red', label = 'Real Tesla Stock Price')\n",
        "plt.plot(predicted_stock_price, color = 'blue', label = 'Predicted Tesla Stock Price')\n",
        "plt.title('Tesla Stock Price Prediction')\n",
        "plt.xlabel('Time')\n",
        "plt.ylabel('Tesla Stock Price')\n",
        "plt.legend()\n",
        "plt.show()"
      ],
      "execution_count": 33,
      "outputs": [
        {
          "output_type": "display_data",
          "data": {
            "image/png": "[encoded data removed]",
            "text/plain": [
              "<Figure size 432x288 with 1 Axes>"
            ]
          },
          "metadata": {
            "tags": [],
            "needs_background": "light"
          }
        }
      ]
    },
    {
      "cell_type": "markdown",
      "metadata": {
        "id": "pGs0m_4h5hLL",
        "colab_type": "text"
      },
      "source": [
        "###**7. Improvement**\n",
        "\n",
        "We can improve the RNN by few approaches:\n",
        "1. getting more training data: such as 10 years instead of 5 years. \n",
        "\n",
        "2. increasing the number of timesteps: such as half year.\n",
        "\n",
        "3. adding more neurones in the LSTM layers: increasing the number of neurons and layers to respond better to the complexity of the problem.\n",
        "\n",
        "\n",
        "\n"
      ]
    }
  ]
}